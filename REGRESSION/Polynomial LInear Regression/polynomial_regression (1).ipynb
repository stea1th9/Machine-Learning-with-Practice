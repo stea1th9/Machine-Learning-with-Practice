{
  "nbformat": 4,
  "nbformat_minor": 0,
  "metadata": {
    "colab": {
      "name": "polynomial_regression.ipynb",
      "provenance": [],
      "collapsed_sections": [],
      "toc_visible": true
    },
    "kernelspec": {
      "name": "python3",
      "display_name": "Python 3"
    }
  },
  "cells": [
    {
      "cell_type": "markdown",
      "metadata": {
        "id": "vN99YjPTDena",
        "colab_type": "text"
      },
      "source": [
        "# Polynomial Regression\n",
        "\n",
        "Rayan Crasta (stea1th9)"
      ]
    },
    {
      "cell_type": "markdown",
      "metadata": {
        "id": "gn4uT89UspH8",
        "colab_type": "text"
      },
      "source": [
        "**Problem Statement**\n",
        "\n",
        "Lets imagine we are an HR and we ant to hire , we found a great fit for the job .\n",
        "But the question comes what is your salary expectiation \n",
        "he demands $160,000 per year in prev company\n",
        "We are gonna build a plynomial regression to predict his previous salary to know wether its the truth of the bluff:\n",
        "\n",
        "**Data Set:**\n",
        "\n",
        "*   Positions \n",
        "*   Level\n",
        "*   Salary \n",
        "\n",
        "We need to check which position this person had according to salary . \n",
        "\n",
        "But chance is he has been Regional Manager for Dunder Mifflin for quite a while. Hence his salary shouldnt be 150,000 but it should be between 150,000 to 160,000 i.e position level 6 and 7"
      ]
    },
    {
      "cell_type": "markdown",
      "metadata": {
        "id": "ZIx_naXnDyHd",
        "colab_type": "text"
      },
      "source": [
        "## Importing the libraries"
      ]
    },
    {
      "cell_type": "code",
      "metadata": {
        "id": "y70IkVFBtELT",
        "colab_type": "code",
        "colab": {}
      },
      "source": [
        "import numpy as np\n",
        "import matplotlib.pyplot as plt\n",
        "import pandas as pd"
      ],
      "execution_count": 0,
      "outputs": []
    },
    {
      "cell_type": "markdown",
      "metadata": {
        "id": "6c8YExmOD5x5",
        "colab_type": "text"
      },
      "source": [
        "## Importing the dataset"
      ]
    },
    {
      "cell_type": "code",
      "metadata": {
        "id": "6QGcmqJ1tTq_",
        "colab_type": "code",
        "colab": {}
      },
      "source": [
        "dataset = pd.read_csv('Position_Salaries.csv')\n",
        "X=dataset.iloc[:,1:-1].values \n",
        "#select only level column cuz its like the  encoded version of position\n",
        "y = dataset.iloc[:,-1].values"
      ],
      "execution_count": 0,
      "outputs": []
    },
    {
      "cell_type": "markdown",
      "metadata": {
        "id": "Le8SEL-YEOLb",
        "colab_type": "text"
      },
      "source": [
        "## Training the Linear Regression model on the whole dataset"
      ]
    },
    {
      "cell_type": "code",
      "metadata": {
        "id": "SpE86YoUuJEf",
        "colab_type": "code",
        "colab": {
          "base_uri": "https://localhost:8080/",
          "height": 35
        },
        "outputId": "af44431c-6ac9-440c-a9f9-1b3f7b121f13"
      },
      "source": [
        "from sklearn.linear_model import LinearRegression\n",
        "regressor = LinearRegression()\n",
        "regressor.fit(X,y)"
      ],
      "execution_count": 3,
      "outputs": [
        {
          "output_type": "execute_result",
          "data": {
            "text/plain": [
              "LinearRegression(copy_X=True, fit_intercept=True, n_jobs=None, normalize=False)"
            ]
          },
          "metadata": {
            "tags": []
          },
          "execution_count": 3
        }
      ]
    },
    {
      "cell_type": "markdown",
      "metadata": {
        "id": "Rb5nWuSHEfBV",
        "colab_type": "text"
      },
      "source": [
        "## Training the Polynomial Regression model on the whole dataset"
      ]
    },
    {
      "cell_type": "code",
      "metadata": {
        "id": "nnsqBSLVvPsJ",
        "colab_type": "code",
        "colab": {
          "base_uri": "https://localhost:8080/",
          "height": 35
        },
        "outputId": "ff903863-bf20-46fc-db33-ae4676ebcbeb"
      },
      "source": [
        "#now instead of x1 x2 and xn , we will have the x1^2 x2^2\n",
        "from sklearn.preprocessing import PolynomialFeatures\n",
        "ply_reg= PolynomialFeatures(degree=4) #x^4 max\n",
        "X_poly= ply_reg.fit_transform(X)  \n",
        "#X_poly is the x1 linearity is converted into a polynomial of degree 2 \n",
        "linear_reg_2 = LinearRegression()\n",
        "linear_reg_2.fit(X_poly,y)\n"
      ],
      "execution_count": 11,
      "outputs": [
        {
          "output_type": "execute_result",
          "data": {
            "text/plain": [
              "LinearRegression(copy_X=True, fit_intercept=True, n_jobs=None, normalize=False)"
            ]
          },
          "metadata": {
            "tags": []
          },
          "execution_count": 11
        }
      ]
    },
    {
      "cell_type": "markdown",
      "metadata": {
        "id": "0O8R0tzbEpvy",
        "colab_type": "text"
      },
      "source": [
        "## Visualising the Linear Regression results"
      ]
    },
    {
      "cell_type": "code",
      "metadata": {
        "id": "lxXwBdgqzhVE",
        "colab_type": "code",
        "colab": {
          "base_uri": "https://localhost:8080/",
          "height": 295
        },
        "outputId": "7da6f426-1c2b-4801-861b-b249ed38b637"
      },
      "source": [
        "plt.scatter(X,y,color=\"red\")\n",
        "plt.plot(X,regressor.predict(X),color=\"blue\")\n",
        "plt.title(\"Truth or Bluff(Linear Regresion) \")\n",
        "plt.xlabel('Position Level')\n",
        "plt.ylabel(\"Salary\")\n",
        "plt.show()"
      ],
      "execution_count": 12,
      "outputs": [
        {
          "output_type": "display_data",
          "data": {
            "image/png": "[encoded data removed]",
            "text/plain": [
              "<Figure size 432x288 with 1 Axes>"
            ]
          },
          "metadata": {
            "tags": [],
            "needs_background": "light"
          }
        }
      ]
    },
    {
      "cell_type": "markdown",
      "metadata": {
        "id": "stOnSo74E52m",
        "colab_type": "text"
      },
      "source": [
        "## Visualising the Polynomial Regression results"
      ]
    },
    {
      "cell_type": "code",
      "metadata": {
        "id": "AybpIO2I0W7G",
        "colab_type": "code",
        "colab": {
          "base_uri": "https://localhost:8080/",
          "height": 295
        },
        "outputId": "55346c4e-efd3-4a04-8490-2564e4987898"
      },
      "source": [
        "plt.scatter(X,y,color=\"red\")\n",
        "plt.plot(X,linear_reg_2.predict(X_poly),color=\"blue\")\n",
        "plt.title(\"Truth or Bluff(Polynomail Regresion) \")\n",
        "plt.xlabel('Position Level')\n",
        "plt.ylabel(\"Salary\")\n",
        "plt.show()"
      ],
      "execution_count": 13,
      "outputs": [
        {
          "output_type": "display_data",
          "data": {
            "image/png": "[encoded data removed]",
            "text/plain": [
              "<Figure size 432x288 with 1 Axes>"
            ]
          },
          "metadata": {
            "tags": [],
            "needs_background": "light"
          }
        }
      ]
    },
    {
      "cell_type": "markdown",
      "metadata": {
        "id": "U_qsAMKnE-PJ",
        "colab_type": "text"
      },
      "source": [
        "## Visualising the Polynomial Regression results (for higher resolution and smoother curve)"
      ]
    },
    {
      "cell_type": "code",
      "metadata": {
        "id": "rSsnwVKN1YsG",
        "colab_type": "code",
        "colab": {
          "base_uri": "https://localhost:8080/",
          "height": 295
        },
        "outputId": "de90d777-4110-4de0-a6ba-29501fdd3305"
      },
      "source": [
        "#as we have small Data set ,we will increase x vals plots\n",
        "X_grid= np.arange(min(X),max(X),0.1)#create array at differnece of 0.1 cuz small dataset\n",
        "X_grid= X_grid.reshape((len(X_grid),1))\n",
        "plt.scatter(X,y,color=\"red\")\n",
        "plt.plot(X_grid,linear_reg_2.predict(ply_reg.fit_transform(X_grid)),color='blue')\n",
        "plt.title('Truth or Bluff')\n",
        "plt.xlabel('Position Level')\n",
        "plt.ylabel(\"Salary\")\n",
        "plt.show()\n"
      ],
      "execution_count": 15,
      "outputs": [
        {
          "output_type": "display_data",
          "data": {
            "image/png": "[encoded data removed]",
            "text/plain": [
              "<Figure size 432x288 with 1 Axes>"
            ]
          },
          "metadata": {
            "tags": [],
            "needs_background": "light"
          }
        }
      ]
    },
    {
      "cell_type": "markdown",
      "metadata": {
        "id": "diyJFZHhFFeK",
        "colab_type": "text"
      },
      "source": [
        "## Predicting a new result with Linear Regression"
      ]
    },
    {
      "cell_type": "code",
      "metadata": {
        "id": "0UJVtIG_2q9z",
        "colab_type": "code",
        "colab": {
          "base_uri": "https://localhost:8080/",
          "height": 35
        },
        "outputId": "ce39b04c-d670-4c10-908c-bb5ef7687105"
      },
      "source": [
        "regressor.predict([[6.5]])\n",
        "#we are in loss cuz the person asked for 160,000 but we are getting 330,000"
      ],
      "execution_count": 19,
      "outputs": [
        {
          "output_type": "execute_result",
          "data": {
            "text/plain": [
              "array([330378.78787879])"
            ]
          },
          "metadata": {
            "tags": []
          },
          "execution_count": 19
        }
      ]
    },
    {
      "cell_type": "markdown",
      "metadata": {
        "id": "DW7I7ZVDFNkk",
        "colab_type": "text"
      },
      "source": [
        "## Predicting a new result with Polynomial Regression"
      ]
    },
    {
      "cell_type": "code",
      "metadata": {
        "id": "CABx8sf935cd",
        "colab_type": "code",
        "colab": {
          "base_uri": "https://localhost:8080/",
          "height": 35
        },
        "outputId": "405cb918-2d2a-4e42-80c4-5e00ccd5da1d"
      },
      "source": [
        "linear_reg_2.predict(ply_reg.fit_transform([[6.5]]))\n"
      ],
      "execution_count": 21,
      "outputs": [
        {
          "output_type": "execute_result",
          "data": {
            "text/plain": [
              "array([158862.45265155])"
            ]
          },
          "metadata": {
            "tags": []
          },
          "execution_count": 21
        }
      ]
    },
    {
      "cell_type": "markdown",
      "metadata": {
        "id": "JSJsubnG5Gso",
        "colab_type": "text"
      },
      "source": [
        "#RESULTS\n",
        "\n",
        "Here the linear rgeressor model **says 330,000** which is a bad prediction\n",
        "\n",
        "But polynomail regression says **158K** which is similar to his demand \n",
        "\n",
        "Hence** we can hire **the person as Regional Manager of New York"
      ]
    }
  ]
}