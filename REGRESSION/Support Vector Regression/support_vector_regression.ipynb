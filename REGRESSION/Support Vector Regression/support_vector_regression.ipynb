{
  "nbformat": 4,
  "nbformat_minor": 0,
  "metadata": {
    "colab": {
      "name": "support_vector_regression.ipynb",
      "provenance": [],
      "collapsed_sections": []
    },
    "kernelspec": {
      "name": "python3",
      "display_name": "Python 3"
    }
  },
  "cells": [
    {
      "cell_type": "markdown",
      "metadata": {
        "id": "m3PAEPRDRLA3",
        "colab_type": "text"
      },
      "source": [
        "# Support Vector Regression (SVR)\n",
        "\n",
        "Rayan Crasta (stea1th9)\n",
        "\n",
        "We use non linear SVM Kernel\n",
        "\n",
        "[Theory in Hindi Part 1](https://www.youtube.com/watch?v=owsAQ_fiwIw)"
      ]
    },
    {
      "cell_type": "markdown",
      "metadata": {
        "colab_type": "text",
        "id": "JnzU6XU0L5IZ"
      },
      "source": [
        "**Problem Statement**\n",
        "\n",
        "Lets imagine we are an HR and we ant to hire , we found a great fit for the job .\n",
        "But the question comes what is your salary expectiation \n",
        "he demands $160,000 per year in prev company\n",
        "We are gonna build a plynomial regression to predict his previous salary to know wether its the truth of the bluff:\n",
        "\n",
        "**Data Set:** Position_Salaries.csv\n",
        "\n",
        "\n",
        "*   Positions \n",
        "*   Level\n",
        "*   Salary \n",
        "\n",
        "We need to check which position this person had according to salary . \n",
        "\n",
        "But chance is he has been Regional Manager for Dunder Mifflin for quite a while. Hence his salary shouldnt be 150,000 but it should be between 150,000 to 160,000 i.e position level 6 and 7"
      ]
    },
    {
      "cell_type": "markdown",
      "metadata": {
        "id": "0VCUAVIjRdzZ",
        "colab_type": "text"
      },
      "source": [
        "## Importing the libraries"
      ]
    },
    {
      "cell_type": "code",
      "metadata": {
        "id": "21WTLNTOdEJW",
        "colab_type": "code",
        "colab": {}
      },
      "source": [
        "import numpy as np\n",
        "import matplotlib.pyplot as plt\n",
        "import pandas as pd"
      ],
      "execution_count": 0,
      "outputs": []
    },
    {
      "cell_type": "markdown",
      "metadata": {
        "id": "fXVXoFWtSF4_",
        "colab_type": "text"
      },
      "source": [
        "## Importing the dataset"
      ]
    },
    {
      "cell_type": "code",
      "metadata": {
        "id": "N4YlvQA6dKGg",
        "colab_type": "code",
        "colab": {}
      },
      "source": [
        "dataset= pd.read_csv('Position_Salaries (2).csv')\n",
        "X=dataset.iloc[:,1:-1].values\n",
        "y=dataset.iloc[:,-1].values"
      ],
      "execution_count": 0,
      "outputs": []
    },
    {
      "cell_type": "code",
      "metadata": {
        "id": "ygL9jvtTj-t8",
        "colab_type": "code",
        "outputId": "edb0cc76-ac03-4d87-ec80-057a1a81c0f7",
        "colab": {
          "base_uri": "https://localhost:8080/",
          "height": 199
        }
      },
      "source": [
        "print(X)"
      ],
      "execution_count": 5,
      "outputs": [
        {
          "output_type": "stream",
          "text": [
            "[[ 1]\n",
            " [ 2]\n",
            " [ 3]\n",
            " [ 4]\n",
            " [ 5]\n",
            " [ 6]\n",
            " [ 7]\n",
            " [ 8]\n",
            " [ 9]\n",
            " [10]]\n"
          ],
          "name": "stdout"
        }
      ]
    },
    {
      "cell_type": "code",
      "metadata": {
        "id": "Vi5wAFkLj-M6",
        "colab_type": "code",
        "outputId": "a6ca889b-ec06-4747-85cb-8e5913184de9",
        "colab": {
          "base_uri": "https://localhost:8080/",
          "height": 54
        }
      },
      "source": [
        "print(y)"
      ],
      "execution_count": 6,
      "outputs": [
        {
          "output_type": "stream",
          "text": [
            "[  45000   50000   60000   80000  110000  150000  200000  300000  500000\n",
            " 1000000]\n"
          ],
          "name": "stdout"
        }
      ]
    },
    {
      "cell_type": "markdown",
      "metadata": {
        "id": "YS8FeLHYS-nI",
        "colab_type": "text"
      },
      "source": [
        "## Feature Scaling\n",
        "\n",
        "In previous example of dataprocessing we didnt apply feature scaling on the features because the value of the dependent variable was between 0 and 1 \n",
        "\n",
        "If values are really big , the algorithm runs slower as hence we need to scale it down. \n",
        "\n",
        "[Why do we need to perform feature Scaling](https://www.youtube.com/watch?v=nmBqnKSSKfM)\n",
        "\n",
        "[Types of Feature Scaling](https://www.youtube.com/watch?v=mnKm3YP56PY)"
      ]
    },
    {
      "cell_type": "code",
      "metadata": {
        "id": "p-QhU7XJdkWC",
        "colab_type": "code",
        "colab": {}
      },
      "source": [
        "#convert y into a 2D array because the Standard Scaler Class that performs Standardisation expects a 2D arays as the input\n",
        "y=y.reshape(len(y),1)  #10rows and 1 column"
      ],
      "execution_count": 0,
      "outputs": []
    },
    {
      "cell_type": "code",
      "metadata": {
        "id": "2FuUTs8zkIxc",
        "colab_type": "code",
        "outputId": "0f0ff29d-1e80-4d44-b918-5372ea6ca743",
        "colab": {
          "base_uri": "https://localhost:8080/",
          "height": 199
        }
      },
      "source": [
        "print(y)"
      ],
      "execution_count": 8,
      "outputs": [
        {
          "output_type": "stream",
          "text": [
            "[[  45000]\n",
            " [  50000]\n",
            " [  60000]\n",
            " [  80000]\n",
            " [ 110000]\n",
            " [ 150000]\n",
            " [ 200000]\n",
            " [ 300000]\n",
            " [ 500000]\n",
            " [1000000]]\n"
          ],
          "name": "stdout"
        }
      ]
    },
    {
      "cell_type": "code",
      "metadata": {
        "id": "I1GCWgO2lDCI",
        "colab_type": "code",
        "colab": {}
      },
      "source": [
        "from sklearn.preprocessing import StandardScaler\n",
        "scX = StandardScaler()\n",
        "scY = StandardScaler()\n",
        "X = scX.fit_transform(X)\n",
        "y =scY.fit_transform(y)"
      ],
      "execution_count": 0,
      "outputs": []
    },
    {
      "cell_type": "code",
      "metadata": {
        "id": "tW1oob55lmPj",
        "colab_type": "code",
        "outputId": "45315bed-7b04-4dd5-d02d-f0bbf1f46298",
        "colab": {
          "base_uri": "https://localhost:8080/",
          "height": 199
        }
      },
      "source": [
        "print(X)"
      ],
      "execution_count": 10,
      "outputs": [
        {
          "output_type": "stream",
          "text": [
            "[[-1.5666989 ]\n",
            " [-1.21854359]\n",
            " [-0.87038828]\n",
            " [-0.52223297]\n",
            " [-0.17407766]\n",
            " [ 0.17407766]\n",
            " [ 0.52223297]\n",
            " [ 0.87038828]\n",
            " [ 1.21854359]\n",
            " [ 1.5666989 ]]\n"
          ],
          "name": "stdout"
        }
      ]
    },
    {
      "cell_type": "code",
      "metadata": {
        "id": "t2T8sueEloLD",
        "colab_type": "code",
        "outputId": "c2d032c7-ec2f-4ac9-cbcc-547078991cf9",
        "colab": {
          "base_uri": "https://localhost:8080/",
          "height": 199
        }
      },
      "source": [
        "print(y)"
      ],
      "execution_count": 11,
      "outputs": [
        {
          "output_type": "stream",
          "text": [
            "[[-0.72004253]\n",
            " [-0.70243757]\n",
            " [-0.66722767]\n",
            " [-0.59680786]\n",
            " [-0.49117815]\n",
            " [-0.35033854]\n",
            " [-0.17428902]\n",
            " [ 0.17781001]\n",
            " [ 0.88200808]\n",
            " [ 2.64250325]]\n"
          ],
          "name": "stdout"
        }
      ]
    },
    {
      "cell_type": "markdown",
      "metadata": {
        "id": "eiU6D2QFRjxY",
        "colab_type": "text"
      },
      "source": [
        "## Training the SVR model on the whole dataset"
      ]
    },
    {
      "cell_type": "code",
      "metadata": {
        "id": "jr33y3D3nBU0",
        "colab_type": "code",
        "colab": {
          "base_uri": "https://localhost:8080/",
          "height": 110
        },
        "outputId": "6e23f1c7-ebeb-46c0-ff75-f8e2524716f4"
      },
      "source": [
        "from sklearn.svm import SVR\n",
        "regressor = SVR(kernel='rbf')  #We use a RBG kernel(Gausian Radial Basis FUnction)\n",
        "regressor.fit(X,y)"
      ],
      "execution_count": 12,
      "outputs": [
        {
          "output_type": "stream",
          "text": [
            "/usr/local/lib/python3.6/dist-packages/sklearn/utils/validation.py:760: DataConversionWarning: A column-vector y was passed when a 1d array was expected. Please change the shape of y to (n_samples, ), for example using ravel().\n",
            "  y = column_or_1d(y, warn=True)\n"
          ],
          "name": "stderr"
        },
        {
          "output_type": "execute_result",
          "data": {
            "text/plain": [
              "SVR(C=1.0, cache_size=200, coef0=0.0, degree=3, epsilon=0.1, gamma='scale',\n",
              "    kernel='rbf', max_iter=-1, shrinking=True, tol=0.001, verbose=False)"
            ]
          },
          "metadata": {
            "tags": []
          },
          "execution_count": 12
        }
      ]
    },
    {
      "cell_type": "markdown",
      "metadata": {
        "id": "deDnDr8UR5vq",
        "colab_type": "text"
      },
      "source": [
        "## Predicting a new result"
      ]
    },
    {
      "cell_type": "code",
      "metadata": {
        "id": "Ep2lutM_O0DW",
        "colab_type": "code",
        "colab": {
          "base_uri": "https://localhost:8080/",
          "height": 35
        },
        "outputId": "d02302d2-df6d-4279-bd89-8ccc282c29d4"
      },
      "source": [
        "scY.inverse_transform(regressor.predict(scX.transform([[6.5]])))\n",
        "#we do inverse tranform becuase we want actualy salary and not the featured scale version of it\n",
        "#also we do scX.tranform becuase the input should be give nin the featured scale form\n",
        "\n"
      ],
      "execution_count": 14,
      "outputs": [
        {
          "output_type": "execute_result",
          "data": {
            "text/plain": [
              "array([170370.0204065])"
            ]
          },
          "metadata": {
            "tags": []
          },
          "execution_count": 14
        }
      ]
    },
    {
      "cell_type": "markdown",
      "metadata": {
        "id": "zzedFlUISSu_",
        "colab_type": "text"
      },
      "source": [
        "## Visualising the SVR results"
      ]
    },
    {
      "cell_type": "code",
      "metadata": {
        "id": "UzDzIP61P32c",
        "colab_type": "code",
        "colab": {
          "base_uri": "https://localhost:8080/",
          "height": 295
        },
        "outputId": "6657e43b-6874-4d03-cb96-05924521a1ec"
      },
      "source": [
        "plt.scatter(scX.inverse_transform(X),scY.inverse_transform(y),color='red')\n",
        "plt.plot(scX.inverse_transform(X),scY.inverse_transform(regressor.predict(X)),color='blue')\n",
        "plt.title('Truth or Bluff (Support Vector Regression')\n",
        "plt.xlabel('Position Level')\n",
        "plt.ylabel('Salary')\n",
        "plt.show()"
      ],
      "execution_count": 17,
      "outputs": [
        {
          "output_type": "display_data",
          "data": {
            "image/png": "[encoded data removed]",
            "text/plain": [
              "<Figure size 432x288 with 1 Axes>"
            ]
          },
          "metadata": {
            "tags": [],
            "needs_background": "light"
          }
        }
      ]
    },
    {
      "cell_type": "markdown",
      "metadata": {
        "id": "UahPVNlJSZ-K",
        "colab_type": "text"
      },
      "source": [
        "## Visualising the SVR results (for higher resolution and smoother curve)"
      ]
    },
    {
      "cell_type": "code",
      "metadata": {
        "id": "AybpIO2I0W7G",
        "colab_type": "code",
        "outputId": "5b7f5a44-0684-44ae-d476-b1851145099d",
        "colab": {
          "base_uri": "https://localhost:8080/",
          "height": 295
        }
      },
      "source": [
        "#as we have small Data set ,we will increase x vals plots\n",
        "X_grid= np.arange(min(scX.inverse_transform(X)),max(scX.inverse_transform(X)),0.1)#create array at differnece of 0.1 cuz small dataset\n",
        "X_grid= X_grid.reshape((len(X_grid),1))\n",
        "plt.scatter(scX.inverse_transform(X),scY.inverse_transform(y),color=\"red\")\n",
        "plt.plot(X_grid,scY.inverse_transform(regressor.predict(scX.transform(X_grid))),color='blue')\n",
        "plt.title('Truth or Bluff (Support Vector Regressor')\n",
        "plt.xlabel('Position Level')\n",
        "plt.ylabel(\"Salary\")\n",
        "plt.show()"
      ],
      "execution_count": 26,
      "outputs": [
        {
          "output_type": "display_data",
          "data": {
            "image/png": "[encoded data removed]",
            "text/plain": [
              "<Figure size 432x288 with 1 Axes>"
            ]
          },
          "metadata": {
            "tags": [],
            "needs_background": "light"
          }
        }
      ]
    }
  ]
}